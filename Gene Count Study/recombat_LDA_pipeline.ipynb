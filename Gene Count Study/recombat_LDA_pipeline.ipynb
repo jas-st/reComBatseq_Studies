{
 "cells": [
  {
   "cell_type": "code",
   "execution_count": 33,
   "id": "6257df1d",
   "metadata": {},
   "outputs": [],
   "source": [
    "from sklearn.discriminant_analysis import LinearDiscriminantAnalysis\n",
    "\n",
    "def LDA_score(X,Y):\n",
    "\n",
    "    LDA = LinearDiscriminantAnalysis()\n",
    "    LDA.fit_transform(X, Y)\n",
    "\n",
    "    return LDA.score(X, Y)"
   ]
  },
  {
   "cell_type": "code",
   "execution_count": 47,
   "id": "3e4b5e7c",
   "metadata": {},
   "outputs": [],
   "source": [
    "import pandas as pd\n",
    "\n",
    "recombat_calc = True\n",
    "\n",
    "exp_folder = \"EXPERIMENTS/SAMPLES/experiment_2(14)/\"\n",
    "sample_count = 2**14"
   ]
  },
  {
   "cell_type": "code",
   "execution_count": 48,
   "id": "b60348c6",
   "metadata": {},
   "outputs": [],
   "source": [
    "covmat = pd.read_csv(f\"{exp_folder}covmat.csv\", index_col=0)\n",
    "covmat.reset_index(inplace=True, drop=True)\n",
    "covmat = covmat.astype(str)"
   ]
  },
  {
   "cell_type": "code",
   "execution_count": null,
   "id": "3efbb2ff",
   "metadata": {},
   "outputs": [
    {
     "name": "stdout",
     "output_type": "stream",
     "text": [
      "Iteration 1\n"
     ]
    },
    {
     "name": "stderr",
     "output_type": "stream",
     "text": [
      "[reComBat] 2025-07-30 20:08:49,227 Starting to fot reComBat.\n",
      "[reComBat] 2025-07-30 20:08:49,298 Fit the linear model.\n",
      "[reComBat] 2025-07-30 20:08:50,648 Starting the empirical parametric optimisation.\n",
      "[reComBat] 2025-07-30 20:08:51,380 Optimisation finished.\n",
      "[reComBat] 2025-07-30 20:08:51,386 reComBat is fitted.\n",
      "[reComBat] 2025-07-30 20:08:51,402 Starting to transform.\n",
      "[reComBat] 2025-07-30 20:08:52,645 Transform finished.\n"
     ]
    },
    {
     "name": "stdout",
     "output_type": "stream",
     "text": [
      "LDA Calc 1\n",
      "Iteration 2\n"
     ]
    },
    {
     "name": "stderr",
     "output_type": "stream",
     "text": [
      "[reComBat] 2025-07-30 20:11:14,632 Starting to fot reComBat.\n",
      "[reComBat] 2025-07-30 20:11:14,710 Fit the linear model.\n",
      "[reComBat] 2025-07-30 20:11:15,469 Starting the empirical parametric optimisation.\n",
      "[reComBat] 2025-07-30 20:11:15,900 Optimisation finished.\n",
      "[reComBat] 2025-07-30 20:11:15,901 reComBat is fitted.\n",
      "[reComBat] 2025-07-30 20:11:15,913 Starting to transform.\n",
      "[reComBat] 2025-07-30 20:11:16,826 Transform finished.\n"
     ]
    },
    {
     "name": "stdout",
     "output_type": "stream",
     "text": [
      "LDA Calc 2\n",
      "Iteration 3\n"
     ]
    },
    {
     "name": "stderr",
     "output_type": "stream",
     "text": [
      "[reComBat] 2025-07-30 20:13:10,551 Starting to fot reComBat.\n",
      "[reComBat] 2025-07-30 20:13:10,582 Fit the linear model.\n",
      "[reComBat] 2025-07-30 20:13:11,162 Starting the empirical parametric optimisation.\n",
      "[reComBat] 2025-07-30 20:13:11,501 Optimisation finished.\n",
      "[reComBat] 2025-07-30 20:13:11,502 reComBat is fitted.\n",
      "[reComBat] 2025-07-30 20:13:11,510 Starting to transform.\n",
      "[reComBat] 2025-07-30 20:13:12,402 Transform finished.\n"
     ]
    },
    {
     "name": "stdout",
     "output_type": "stream",
     "text": [
      "LDA Calc 3\n",
      "Iteration 4\n"
     ]
    },
    {
     "name": "stderr",
     "output_type": "stream",
     "text": [
      "[reComBat] 2025-07-30 20:15:22,949 Starting to fot reComBat.\n",
      "[reComBat] 2025-07-30 20:15:23,063 Fit the linear model.\n",
      "[reComBat] 2025-07-30 20:15:23,766 Starting the empirical parametric optimisation.\n",
      "[reComBat] 2025-07-30 20:15:24,202 Optimisation finished.\n",
      "[reComBat] 2025-07-30 20:15:24,203 reComBat is fitted.\n",
      "[reComBat] 2025-07-30 20:15:24,214 Starting to transform.\n",
      "[reComBat] 2025-07-30 20:15:25,269 Transform finished.\n"
     ]
    },
    {
     "name": "stdout",
     "output_type": "stream",
     "text": [
      "LDA Calc 4\n",
      "Iteration 5\n"
     ]
    },
    {
     "name": "stderr",
     "output_type": "stream",
     "text": [
      "[reComBat] 2025-07-30 20:17:23,834 Starting to fot reComBat.\n",
      "[reComBat] 2025-07-30 20:17:24,127 Fit the linear model.\n",
      "[reComBat] 2025-07-30 20:17:25,544 Starting the empirical parametric optimisation.\n",
      "[reComBat] 2025-07-30 20:17:26,398 Optimisation finished.\n",
      "[reComBat] 2025-07-30 20:17:26,399 reComBat is fitted.\n",
      "[reComBat] 2025-07-30 20:17:26,412 Starting to transform.\n",
      "[reComBat] 2025-07-30 20:17:28,725 Transform finished.\n"
     ]
    },
    {
     "name": "stdout",
     "output_type": "stream",
     "text": [
      "LDA Calc 5\n"
     ]
    }
   ],
   "source": [
    "import numpy as np\n",
    "from reComBat import reComBat\n",
    "import time\n",
    "\n",
    "lda_batch = []\n",
    "lda_nobatch = []\n",
    "lda_combatseq = []\n",
    "lda_recombatseq = []\n",
    "lda_recombat = []\n",
    "recombat_csvs = []\n",
    "time_recombat = []\n",
    "\n",
    "batches = np.array(['batch1']*int(sample_count/2) + ['batch2']*int(sample_count/2))\n",
    "batches_series = pd.Series(np.array(['batch1']*int(sample_count/2) + ['batch2']*int(sample_count/2)))\n",
    "group = pd.DataFrame(np.array(['group1']*int(sample_count/4) + ['group2']*int(sample_count/4) + \n",
    "                              ['group1']*int(sample_count/4) + ['group2']*int(sample_count/4)))\n",
    "group = group.rename(columns={0:\"groups\"})\n",
    "\n",
    "for iter in range(1,6):\n",
    "    print(\"Iteration\",iter)\n",
    "    batch_df = pd.read_csv(f\"{exp_folder}iter{iter}_batch_df.csv\", index_col=0)\n",
    "    nobatch_df = pd.read_csv(f\"{exp_folder}iter{iter}_nobatch_df.csv\", index_col=0)\n",
    "    combatseq_df = pd.read_csv(f\"{exp_folder}iter{iter}_combatseq_df.csv\", index_col=0)\n",
    "    recombatseq_df = pd.read_csv(f\"{exp_folder}iter{iter}_recombatseq_df.csv\", index_col=0)\n",
    "\n",
    "    if recombat_calc:\n",
    "        count_batch_transformed = pd.read_csv(f\"{exp_folder}iter{iter}_countmat_batch_transformed.csv\", index_col=0)\n",
    "        start = time.time()\n",
    "        recombat_model = reComBat(model='ridge', parametric=True, config={'alpha': 1e-9})\n",
    "        recombat_df = recombat_model.fit_transform(count_batch_transformed.T, batches_series, X=group, C=covmat)\n",
    "        end = time.time()\n",
    "        recombat_df.T.to_csv(f\"{exp_folder}iter{iter}_recombat_df.csv\")\n",
    "    else:\n",
    "        recombat_df = pd.read_csv(f\"{exp_folder}iter{iter}_recombat_df.csv\", index_col=0).T\n",
    "\n",
    "    print(\"LDA Calc\",iter)\n",
    "    lda_batch.append(LDA_score(batch_df.T.values, batches))\n",
    "    lda_nobatch.append(LDA_score(nobatch_df.T.values, batches))\n",
    "    lda_combatseq.append(LDA_score(combatseq_df.T.values, batches))\n",
    "    lda_recombatseq.append(LDA_score(recombatseq_df.T.values, batches))\n",
    "    lda_recombat.append(LDA_score(recombat_df.values, batches))\n",
    "    time_recombat.append((end-start)/60)"
   ]
  },
  {
   "cell_type": "code",
   "execution_count": null,
   "id": "c95756ae",
   "metadata": {},
   "outputs": [
    {
     "name": "stdout",
     "output_type": "stream",
     "text": [
      "1.0,0.6014404296875,0.74451904296875,0.74410400390625,0.5051025390625\n",
      "0.050016186237335204\n"
     ]
    }
   ],
   "source": [
    "ldalist = [np.mean(lda_batch),np.mean(lda_nobatch), np.mean(lda_combatseq),\n",
    "                np.mean(lda_recombatseq),np.mean(lda_recombat)]\n",
    "\n",
    "print(\",\".join([str(x) for  x in ldalist]))\n",
    "print(np.mean(time_recombat))"
   ]
  }
 ],
 "metadata": {
  "kernelspec": {
   "display_name": "Python 3",
   "language": "python",
   "name": "python3"
  },
  "language_info": {
   "codemirror_mode": {
    "name": "ipython",
    "version": 3
   },
   "file_extension": ".py",
   "mimetype": "text/x-python",
   "name": "python",
   "nbconvert_exporter": "python",
   "pygments_lexer": "ipython3",
   "version": "3.9.20"
  }
 },
 "nbformat": 4,
 "nbformat_minor": 5
}
