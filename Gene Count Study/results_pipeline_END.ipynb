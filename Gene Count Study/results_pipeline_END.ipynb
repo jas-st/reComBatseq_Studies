{
 "cells": [
  {
   "cell_type": "code",
   "execution_count": 4,
   "id": "e9168446",
   "metadata": {},
   "outputs": [],
   "source": [
    "from sklearn.discriminant_analysis import LinearDiscriminantAnalysis\n",
    "\n",
    "def LDA_score(X,Y):\n",
    "\n",
    "    LDA = LinearDiscriminantAnalysis()\n",
    "    LDA.fit_transform(X, Y)\n",
    "\n",
    "    return LDA.score(X, Y)"
   ]
  },
  {
   "cell_type": "code",
   "execution_count": 59,
   "id": "d75ea1ea",
   "metadata": {},
   "outputs": [],
   "source": [
    "import pandas as pd\n",
    "import numpy as np\n",
    "\n",
    "exp_folder = \"/Users/zhasmina/Desktop/EXPERIMENTS/SAMPLES/experiment_2(14)/\"\n",
    "sample_count = 2**14"
   ]
  },
  {
   "cell_type": "code",
   "execution_count": 60,
   "id": "72b6fcaa",
   "metadata": {},
   "outputs": [],
   "source": [
    "covmat = pd.read_csv(f\"{exp_folder}covmat.csv\", index_col=0)\n",
    "covmat.reset_index(inplace=True, drop=True)\n",
    "covmat = covmat.astype(str)"
   ]
  },
  {
   "cell_type": "code",
   "execution_count": 62,
   "id": "404f9c2f",
   "metadata": {},
   "outputs": [
    {
     "name": "stdout",
     "output_type": "stream",
     "text": [
      "Iteration 1\n"
     ]
    },
    {
     "name": "stderr",
     "output_type": "stream",
     "text": [
      "[INFO] Found 2 batches\n",
      "[INFO] Adjusting for 9 covariate(s) or covariate level(s)\n",
      "[INFO] Estimating dispersions\n",
      "[INFO] Fitting the GLM model\n",
      "[INFO] shrinkage off - using GLM estimates for parameters\n",
      "[INFO] Adjusting the data\n"
     ]
    },
    {
     "name": "stdout",
     "output_type": "stream",
     "text": [
      "LDA Calc 1\n",
      "Iteration 2\n"
     ]
    },
    {
     "name": "stderr",
     "output_type": "stream",
     "text": [
      "[INFO] Found 2 batches\n",
      "[INFO] Adjusting for 9 covariate(s) or covariate level(s)\n",
      "[INFO] Estimating dispersions\n",
      "[INFO] Fitting the GLM model\n",
      "[INFO] shrinkage off - using GLM estimates for parameters\n",
      "[INFO] Adjusting the data\n"
     ]
    },
    {
     "name": "stdout",
     "output_type": "stream",
     "text": [
      "LDA Calc 2\n",
      "Iteration 3\n"
     ]
    },
    {
     "name": "stderr",
     "output_type": "stream",
     "text": [
      "[INFO] Found 2 batches\n",
      "[INFO] Adjusting for 9 covariate(s) or covariate level(s)\n",
      "[INFO] Estimating dispersions\n",
      "[INFO] Fitting the GLM model\n",
      "[INFO] shrinkage off - using GLM estimates for parameters\n",
      "[INFO] Adjusting the data\n"
     ]
    },
    {
     "name": "stdout",
     "output_type": "stream",
     "text": [
      "LDA Calc 3\n",
      "Iteration 4\n"
     ]
    },
    {
     "name": "stderr",
     "output_type": "stream",
     "text": [
      "[INFO] Found 2 batches\n",
      "[INFO] Adjusting for 9 covariate(s) or covariate level(s)\n",
      "[INFO] Estimating dispersions\n",
      "[INFO] Fitting the GLM model\n",
      "[INFO] shrinkage off - using GLM estimates for parameters\n",
      "[INFO] Adjusting the data\n"
     ]
    },
    {
     "name": "stdout",
     "output_type": "stream",
     "text": [
      "LDA Calc 4\n",
      "Iteration 5\n"
     ]
    },
    {
     "name": "stderr",
     "output_type": "stream",
     "text": [
      "[INFO] Found 2 batches\n",
      "[INFO] Adjusting for 9 covariate(s) or covariate level(s)\n",
      "[INFO] Estimating dispersions\n",
      "[INFO] Fitting the GLM model\n",
      "[INFO] shrinkage off - using GLM estimates for parameters\n",
      "[INFO] Adjusting the data\n"
     ]
    },
    {
     "name": "stdout",
     "output_type": "stream",
     "text": [
      "LDA Calc 5\n",
      "LDA:  0.72525634765625\n",
      "time:  7.440576820373536\n"
     ]
    }
   ],
   "source": [
    "import pyrecombatseq.pycombat as prs\n",
    "import time\n",
    "\n",
    "lda_pycombat = []\n",
    "pycombat_csvs = []\n",
    "time_pycombat = []\n",
    "\n",
    "batches = [1]*int(sample_count/2) + [2]*int(sample_count/2)\n",
    "group = pd.DataFrame(np.array(['group1']*int(sample_count/4) + ['group2']*int(sample_count/4) + \n",
    "                              ['group1']*int(sample_count/4) + ['group2']*int(sample_count/4)))\n",
    "group = group.rename(columns={0:\"groups\"})\n",
    "\n",
    "covmat[\"group\"] = group\n",
    "\n",
    "for iter in range(1,6):\n",
    "    print(\"Iteration\",iter)\n",
    "    batch_df = pd.read_csv(f\"{exp_folder}iter{iter}_batch_df.csv\", index_col=0)\n",
    "\n",
    "    start = time.time()\n",
    "    pycombat_df = prs.pycombat_seq(counts=batch_df, batch=batches, covar_mod=covmat)\n",
    "    end = time.time()\n",
    "    pycombat_df.to_csv(f\"{exp_folder}iter{iter}_pycombat_df.csv\")\n",
    "\n",
    "    print(\"LDA Calc\",iter)\n",
    "    lda_pycombat.append(LDA_score(pycombat_df.T.values, batches))\n",
    "    time_pycombat.append((end-start)/60)\n",
    "\n",
    "print(\"LDA: \", np.mean(lda_pycombat))\n",
    "print(\"time: \", np.mean(time_pycombat))"
   ]
  }
 ],
 "metadata": {
  "kernelspec": {
   "display_name": "Python 3",
   "language": "python",
   "name": "python3"
  },
  "language_info": {
   "codemirror_mode": {
    "name": "ipython",
    "version": 3
   },
   "file_extension": ".py",
   "mimetype": "text/x-python",
   "name": "python",
   "nbconvert_exporter": "python",
   "pygments_lexer": "ipython3",
   "version": "3.12.6"
  }
 },
 "nbformat": 4,
 "nbformat_minor": 5
}
