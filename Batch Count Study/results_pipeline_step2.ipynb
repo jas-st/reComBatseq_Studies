{
 "cells": [
  {
   "cell_type": "code",
   "execution_count": 96,
   "id": "efcf6445",
   "metadata": {},
   "outputs": [],
   "source": [
    "from sklearn.discriminant_analysis import LinearDiscriminantAnalysis\n",
    "\n",
    "def LDA_score(X,Y):\n",
    "\n",
    "    LDA = LinearDiscriminantAnalysis()\n",
    "    LDA.fit_transform(X, Y)\n",
    "\n",
    "    return LDA.score(X, Y)"
   ]
  },
  {
   "cell_type": "code",
   "execution_count": null,
   "id": "69af4849",
   "metadata": {},
   "outputs": [],
   "source": [
    "import pandas as pd\n",
    "\n",
    "exp_folder = \"/DATA/40_/\"\n",
    "\n",
    "covmat = pd.read_csv(f\"{exp_folder}covmat.csv\", index_col=0)\n",
    "covmat.reset_index(inplace=True, drop=True)\n",
    "covmat = covmat.astype(str)"
   ]
  },
  {
   "cell_type": "code",
   "execution_count": 152,
   "id": "fa136781",
   "metadata": {},
   "outputs": [
    {
     "name": "stdout",
     "output_type": "stream",
     "text": [
      "Iteration 1\n"
     ]
    },
    {
     "name": "stderr",
     "output_type": "stream",
     "text": [
      "[reComBat] 2025-08-02 19:32:43,008 Starting to fot reComBat.\n",
      "[reComBat] 2025-08-02 19:32:43,070 Fit the linear model.\n",
      "[reComBat] 2025-08-02 19:32:43,392 Starting the empirical parametric optimisation.\n",
      "[reComBat] 2025-08-02 19:32:43,515 Optimisation finished.\n",
      "[reComBat] 2025-08-02 19:32:43,516 reComBat is fitted.\n",
      "[reComBat] 2025-08-02 19:32:43,520 Starting to transform.\n",
      "[reComBat] 2025-08-02 19:32:43,824 Transform finished.\n"
     ]
    },
    {
     "name": "stdout",
     "output_type": "stream",
     "text": [
      "LDA Calc 1\n",
      "Iteration 2\n"
     ]
    },
    {
     "name": "stderr",
     "output_type": "stream",
     "text": [
      "[reComBat] 2025-08-02 19:33:10,723 Starting to fot reComBat.\n",
      "[reComBat] 2025-08-02 19:33:10,736 Fit the linear model.\n",
      "[reComBat] 2025-08-02 19:33:11,045 Starting the empirical parametric optimisation.\n",
      "[reComBat] 2025-08-02 19:33:11,187 Optimisation finished.\n",
      "[reComBat] 2025-08-02 19:33:11,188 reComBat is fitted.\n",
      "[reComBat] 2025-08-02 19:33:11,192 Starting to transform.\n",
      "[reComBat] 2025-08-02 19:33:11,483 Transform finished.\n"
     ]
    },
    {
     "name": "stdout",
     "output_type": "stream",
     "text": [
      "LDA Calc 2\n",
      "Iteration 3\n"
     ]
    },
    {
     "name": "stderr",
     "output_type": "stream",
     "text": [
      "[reComBat] 2025-08-02 19:33:39,987 Starting to fot reComBat.\n",
      "[reComBat] 2025-08-02 19:33:40,011 Fit the linear model.\n",
      "[reComBat] 2025-08-02 19:33:40,475 Starting the empirical parametric optimisation.\n",
      "[reComBat] 2025-08-02 19:33:40,656 Optimisation finished.\n",
      "[reComBat] 2025-08-02 19:33:40,657 reComBat is fitted.\n",
      "[reComBat] 2025-08-02 19:33:40,662 Starting to transform.\n",
      "[reComBat] 2025-08-02 19:33:40,982 Transform finished.\n"
     ]
    },
    {
     "name": "stdout",
     "output_type": "stream",
     "text": [
      "LDA Calc 3\n",
      "Iteration 4\n"
     ]
    },
    {
     "name": "stderr",
     "output_type": "stream",
     "text": [
      "[reComBat] 2025-08-02 19:34:07,528 Starting to fot reComBat.\n",
      "[reComBat] 2025-08-02 19:34:07,541 Fit the linear model.\n",
      "[reComBat] 2025-08-02 19:34:07,842 Starting the empirical parametric optimisation.\n",
      "[reComBat] 2025-08-02 19:34:07,975 Optimisation finished.\n",
      "[reComBat] 2025-08-02 19:34:07,977 reComBat is fitted.\n",
      "[reComBat] 2025-08-02 19:34:07,981 Starting to transform.\n",
      "[reComBat] 2025-08-02 19:34:08,266 Transform finished.\n"
     ]
    },
    {
     "name": "stdout",
     "output_type": "stream",
     "text": [
      "LDA Calc 4\n",
      "Iteration 5\n"
     ]
    },
    {
     "name": "stderr",
     "output_type": "stream",
     "text": [
      "[reComBat] 2025-08-02 19:34:34,530 Starting to fot reComBat.\n",
      "[reComBat] 2025-08-02 19:34:34,546 Fit the linear model.\n",
      "[reComBat] 2025-08-02 19:34:34,855 Starting the empirical parametric optimisation.\n",
      "[reComBat] 2025-08-02 19:34:35,085 Optimisation finished.\n",
      "[reComBat] 2025-08-02 19:34:35,086 reComBat is fitted.\n",
      "[reComBat] 2025-08-02 19:34:35,091 Starting to transform.\n",
      "[reComBat] 2025-08-02 19:34:35,399 Transform finished.\n"
     ]
    },
    {
     "name": "stdout",
     "output_type": "stream",
     "text": [
      "LDA Calc 5\n"
     ]
    }
   ],
   "source": [
    "import numpy as np\n",
    "from reComBat import reComBat\n",
    "import time\n",
    "\n",
    "lda_batch = []\n",
    "lda_nobatch = []\n",
    "lda_recombatseq = []\n",
    "lda_recombat = []\n",
    "recombat_csvs = []\n",
    "time_recombat = []\n",
    "\n",
    "for iter in range(1,6):\n",
    "    print(\"Iteration\",iter)\n",
    "    batch_df = pd.read_csv(f\"{exp_folder}iter{iter}_batch_df.csv\", index_col=0)\n",
    "    nobatch_df = pd.read_csv(f\"{exp_folder}iter{iter}_nobatch_df.csv\", index_col=0)\n",
    "    recombatseq_df = pd.read_csv(f\"{exp_folder}iter{iter}_recombatseq_df.csv\", index_col=0)\n",
    "    \n",
    "    # metadata\n",
    "    metadata = pd.read_csv(f\"{exp_folder}iter{iter}_metadata.csv\", index_col=0)\n",
    "    batches_series = metadata[\"batch\"]\n",
    "    batches = batches_series.to_numpy(dtype=\"<U6\")\n",
    "    group = metadata[[\"group\"]]\n",
    "\n",
    "    # reComBat calc\n",
    "    count_batch_transformed = pd.read_csv(f\"{exp_folder}iter{iter}_countmat_batch_transformed.csv\", index_col=0)\n",
    "    start = time.time()\n",
    "    recombat_model = reComBat(model='ridge', parametric=True, config={'alpha': 1e-9})\n",
    "    recombat_df = recombat_model.fit_transform(count_batch_transformed.T, batches_series, X=group, C=covmat)\n",
    "    end = time.time()\n",
    "    recombat_df.T.to_csv(f\"{exp_folder}iter{iter}_recombat_df.csv\")\n",
    "\n",
    "    print(\"LDA Calc\",iter)\n",
    "    lda_batch.append(LDA_score(batch_df.T.values, batches))\n",
    "    lda_nobatch.append(LDA_score(nobatch_df.T.values, batches))\n",
    "    lda_recombatseq.append(LDA_score(recombatseq_df.T.values, batches))\n",
    "    lda_recombat.append(LDA_score(recombat_df.values, batches))\n",
    "    time_recombat.append((end-start)/60)"
   ]
  },
  {
   "cell_type": "code",
   "execution_count": 153,
   "id": "91dc31ef",
   "metadata": {},
   "outputs": [
    {
     "name": "stdout",
     "output_type": "stream",
     "text": [
      "1.0,0.7263333333333334,1.0,0.16763333333333336\n",
      "0.014203179677327473\n"
     ]
    }
   ],
   "source": [
    "ldalist = [np.mean(lda_batch),np.mean(lda_nobatch), np.mean(lda_recombatseq),np.mean(lda_recombat)]\n",
    "\n",
    "print(\",\".join([str(x) for  x in ldalist]))\n",
    "print(np.mean(time_recombat))"
   ]
  }
 ],
 "metadata": {
  "kernelspec": {
   "display_name": "Python 3",
   "language": "python",
   "name": "python3"
  },
  "language_info": {
   "codemirror_mode": {
    "name": "ipython",
    "version": 3
   },
   "file_extension": ".py",
   "mimetype": "text/x-python",
   "name": "python",
   "nbconvert_exporter": "python",
   "pygments_lexer": "ipython3",
   "version": "3.9.20"
  }
 },
 "nbformat": 4,
 "nbformat_minor": 5
}
